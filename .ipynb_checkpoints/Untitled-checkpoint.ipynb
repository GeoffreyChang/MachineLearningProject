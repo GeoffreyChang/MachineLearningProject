{
 "cells": [
  {
   "cell_type": "code",
   "execution_count": 23,
   "id": "a7e01552",
   "metadata": {},
   "outputs": [],
   "source": [
    "from data_visualisation import *"
   ]
  },
  {
   "cell_type": "code",
   "execution_count": 17,
   "id": "e426d1c5",
   "metadata": {},
   "outputs": [
    {
     "ename": "NameError",
     "evalue": "name 'boxplot_visual' is not defined",
     "output_type": "error",
     "traceback": [
      "\u001b[1;31m---------------------------------------------------------------------------\u001b[0m",
      "\u001b[1;31mNameError\u001b[0m                                 Traceback (most recent call last)",
      "\u001b[1;32m~\\AppData\\Local\\Temp\\ipykernel_20228\\1528377885.py\u001b[0m in \u001b[0;36m<module>\u001b[1;34m\u001b[0m\n\u001b[0;32m     16\u001b[0m     \u001b[0mdata\u001b[0m \u001b[1;33m=\u001b[0m \u001b[0mentire_dataset\u001b[0m\u001b[1;33m(\u001b[0m\u001b[1;33m)\u001b[0m\u001b[1;33m\u001b[0m\u001b[1;33m\u001b[0m\u001b[0m\n\u001b[0;32m     17\u001b[0m     \u001b[0mtt\u001b[0m \u001b[1;33m=\u001b[0m \u001b[1;34m\"All Datasets combined\"\u001b[0m\u001b[1;33m\u001b[0m\u001b[1;33m\u001b[0m\u001b[0m\n\u001b[1;32m---> 18\u001b[1;33m     \u001b[0mboxplot_visual\u001b[0m\u001b[1;33m(\u001b[0m\u001b[0mdata\u001b[0m\u001b[1;33m,\u001b[0m \u001b[0mtt\u001b[0m\u001b[1;33m,\u001b[0m \u001b[0msave_plots\u001b[0m\u001b[1;33m)\u001b[0m\u001b[1;33m\u001b[0m\u001b[1;33m\u001b[0m\u001b[0m\n\u001b[0m\u001b[0;32m     19\u001b[0m     \u001b[0mheatmap\u001b[0m\u001b[1;33m(\u001b[0m\u001b[0mdata\u001b[0m\u001b[1;33m,\u001b[0m \u001b[0mtt\u001b[0m\u001b[1;33m,\u001b[0m \u001b[0msave_plots\u001b[0m\u001b[1;33m)\u001b[0m\u001b[1;33m\u001b[0m\u001b[1;33m\u001b[0m\u001b[0m\n",
      "\u001b[1;31mNameError\u001b[0m: name 'boxplot_visual' is not defined"
     ]
    }
   ],
   "source": [
    "# Plot style\n",
    "plt.style.use('ggplot')\n",
    "# to save as png\n",
    "save_plots = False\n",
    "# plot individual datasets or entire dataset\n",
    "individual = False\n",
    "\n",
    "if individual:\n",
    "    files = read_all_files()\n",
    "    for k, data in enumerate(files):\n",
    "        tt = f\"dataset_{k + 1}\"\n",
    "        # data_visual(data, tt, save_plots)\n",
    "        boxplot_visual(data, tt, save_plots)\n",
    "        # heatmap(data, tt, save_plots)\n",
    "else:\n",
    "    data = entire_dataset()\n",
    "    tt = \"All Datasets combined\"\n",
    "    boxplot_visual(data, tt, save_plots)\n",
    "    heatmap(data, tt, save_plots)"
   ]
  },
  {
   "cell_type": "code",
   "execution_count": null,
   "id": "6bf7942a",
   "metadata": {},
   "outputs": [],
   "source": []
  }
 ],
 "metadata": {
  "kernelspec": {
   "display_name": "Python 3 (ipykernel)",
   "language": "python",
   "name": "python3"
  },
  "language_info": {
   "codemirror_mode": {
    "name": "ipython",
    "version": 3
   },
   "file_extension": ".py",
   "mimetype": "text/x-python",
   "name": "python",
   "nbconvert_exporter": "python",
   "pygments_lexer": "ipython3",
   "version": "3.9.13"
  }
 },
 "nbformat": 4,
 "nbformat_minor": 5
}
